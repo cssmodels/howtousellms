{
 "cells": [
  {
   "cell_type": "markdown",
   "id": "c0731a3d-2a69-4479-8043-5c6abcc8baa2",
   "metadata": {},
   "source": [
    "# How to use LLMs for text analysis"
   ]
  },
  {
   "cell_type": "markdown",
   "id": "c6949262-f673-480c-be50-0c92bf0f48ef",
   "metadata": {},
   "source": [
    "#### 2023-07. By Petter Törnberg. ILLC, University of Amsterdam. p.tornberg@uva.nl"
   ]
  },
  {
   "cell_type": "markdown",
   "id": "da99e8df-1867-445d-8e38-a052e50f28fd",
   "metadata": {},
   "source": [
    "This notebook is associated to a how-to guide that gives a simple introduction to using Large Language Models for text analysis in the social sciences. The guide is aimed at students and researchers who are interested in using LLMs for their quantitative or qualitative social scientific text analysis, but who have limited programming experience. You can find the guide at: https://github.com/cssmodels/howtousellms\n",
    "\n",
    "The notebook offers the code for the example of analyzing the level of populism in a given political text, but can easily be adapted for your particular text analysis project."
   ]
  },
  {
   "cell_type": "markdown",
   "id": "6bb4d04c-ea57-4618-8542-13e368b54d49",
   "metadata": {},
   "source": [
    "## 1. Signing up for API access"
   ]
  },
  {
   "cell_type": "markdown",
   "id": "1b2c524e-d6a8-4c40-ada3-e5bdb51b535f",
   "metadata": {},
   "source": [
    "The first step is to sign up to API access with OpenAI. This can be done on platform.openai.com. (See the PDF how-to guide for further instructions.)\n",
    "\n",
    "You will receive an API key to be used below."
   ]
  },
  {
   "cell_type": "markdown",
   "id": "d429de13-87fa-48b5-ba05-3e565a4b244d",
   "metadata": {},
   "source": [
    "## 2. Installing and loading the relevant libraries"
   ]
  },
  {
   "cell_type": "markdown",
   "id": "04bce3a5-52d6-436b-abfe-7214b0187b7f",
   "metadata": {},
   "source": [
    "We first need to install and import the relevant libraries: the pandas package for general data processing, and the openai package for interacting with the OpenAI API."
   ]
  },
  {
   "cell_type": "code",
   "execution_count": null,
   "id": "44c06c36-2b3e-4218-97ee-9e1339c291ae",
   "metadata": {},
   "outputs": [],
   "source": [
    "#Install the libraries\n",
    "!pip install pandas\n",
    "!pip install openai\n",
    "!pip install numpy"
   ]
  },
  {
   "cell_type": "code",
   "execution_count": 366,
   "id": "e135a950-1263-45dd-97c4-e78f8d41eba7",
   "metadata": {},
   "outputs": [],
   "source": [
    "#Call the libraries\n",
    "import pandas as pd\n",
    "import openai\n",
    "import numpy as np\n",
    "\n",
    "#Set the API key. See the how-to guide for furhter instructions\n",
    "openai.api_key = \"YOUR_KEY_HERE\""
   ]
  },
  {
   "cell_type": "code",
   "execution_count": 326,
   "id": "9ff614b6-0492-4b27-b3d8-1b719936b04d",
   "metadata": {},
   "outputs": [],
   "source": [
    "#We define which model to use throughout\n",
    "MODEL = 'gpt-4'\n",
    "MAX_TOKENS = 8000\n",
    "WAIT_TIME = 0.8 # Wait time between each request. This depends on the rate limit of the model used: GPT-4 needs longer wait time than GPT-3.5."
   ]
  },
  {
   "cell_type": "markdown",
   "id": "dad1051e-99ac-4e5b-adc3-f5054dcb6b3f",
   "metadata": {},
   "source": [
    "We can now call the OpenAI API. For instance, we can ask ChatGPT-4 a question:"
   ]
  },
  {
   "cell_type": "code",
   "execution_count": 365,
   "id": "ec033aa7-8fe8-4d71-8b6f-858fcfc8dff6",
   "metadata": {},
   "outputs": [
    {
     "name": "stdout",
     "output_type": "stream",
     "text": [
      "Model answer: 'As an AI, I don't have personal experiences or emotions, but I can tell you that the meaning of life varies from person to person based on their beliefs and values. Some people may believe it's to learn and grow, others may see it as a quest for happiness or fulfillment, and some may find meaning in contributing to the well-being of others. Philosophically, it's a subject of much debate. Some philosophers argue that life has no inherent meaning, and it's up to each individual to create their own purpose.'\n"
     ]
    }
   ],
   "source": [
    "#Test the API\n",
    "response = openai.ChatCompletion.create(\n",
    "  model = 'gpt-4', #Which model to use\n",
    "  temperature=0.2, #How random is the answer\n",
    "  max_tokens=120, #How long can the reply be\n",
    "  messages=[\n",
    "    {\"role\": \"user\", \n",
    "    \"content\": \"What is the meaning of life?\"}]\n",
    ")\n",
    "result = ''\n",
    "for choice in response.choices:\n",
    "    result += choice.message.content\n",
    "print(f\"Model answer: '{result}'\")\n"
   ]
  },
  {
   "cell_type": "markdown",
   "id": "79be4c4b-71a9-4d28-9525-5511841491f5",
   "metadata": {},
   "source": [
    "If the code above generates an error, you might need to check whether your API key is correct, and whether you have access to the specified model."
   ]
  },
  {
   "cell_type": "markdown",
   "id": "33ea0f1e-4230-49a4-9043-542b478b7212",
   "metadata": {},
   "source": [
    "## 3. Loading and preparing your data"
   ]
  },
  {
   "cell_type": "markdown",
   "id": "55e87c6d-1c73-4026-9b3e-fff992f677e6",
   "metadata": {},
   "source": [
    "The next step is to load and prepare the data that we want to analyze. We will load the data into a Pandas dataframe to allow easy processing.\n",
    "\n",
    "The details of how to open your particular data depends on the structure and format of the data. Pandas offers ways of opening a range of file formats, including CSV and Excel files. You may wish to refer to the Pandas documentation for more details.\n",
    "\n",
    "In our example, we will use the data from the Global Populism Dataset (https://dataverse.harvard.edu/dataset.xhtml?persistentId=doi:10.7910/DVN/LFTQEZ). This data offers a number of texts from politicians, and can be used for validating our method. The texts are provided as .txt files in a folder. We will load all these files into a single dataframe."
   ]
  },
  {
   "cell_type": "code",
   "execution_count": null,
   "id": "b51f0c54-272e-4f76-a18b-1128316f7230",
   "metadata": {},
   "outputs": [],
   "source": [
    "#Loading data from textfiles\n",
    "import glob\n",
    "import pandas as pd\n",
    "import os \n",
    "\n",
    "# Define the folder path where the text files are located\n",
    "folder_path = './global-populism-dataset/speeches_20220427/'\n",
    "\n",
    "# Use glob to get a list of all *.txt files in the folder\n",
    "txt_files = glob.glob(folder_path + '/*.txt')\n",
    "\n",
    "# Create an empty list to store the data\n",
    "data = []\n",
    "\n",
    "# Loop through each text file\n",
    "for file_path in txt_files:\n",
    "    with open(file_path, 'r',encoding='utf-8',errors='ignore') as file:\n",
    "        # Read the text from the file\n",
    "        text = file.read()\n",
    "\n",
    "        # Get the filename without the directory path\n",
    "        filename = os.path.basename(file_path)\n",
    "\n",
    "        # Append the text and filename to the data list\n",
    "        data.append({'filename': filename, 'text': text})\n",
    "\n",
    "# Create a dataframe with the data\n",
    "df = pd.DataFrame(data)"
   ]
  },
  {
   "cell_type": "markdown",
   "id": "af601eb8-80d9-4826-82cc-ac783dcaa45c",
   "metadata": {},
   "source": [
    "### Filter the data "
   ]
  },
  {
   "cell_type": "markdown",
   "id": "2e2d199c-6085-43df-ab97-828848452d9c",
   "metadata": {},
   "source": [
    "You will likely need to filter out and select the data you wish to include. \n",
    "\n",
    "In our case, we will filter out texts with non-latin alphabets. While ChatGPT can handle languages with non-latin characters, it is currently more expensive, and there are issues with managing text length. For simplicity, we therefore remove the texts with non-latin alphabet.\n"
   ]
  },
  {
   "cell_type": "code",
   "execution_count": null,
   "id": "fe5274dc-490e-411e-8018-7baebff8b84e",
   "metadata": {},
   "outputs": [],
   "source": [
    "\n",
    "def is_latin_alphabet(text):\n",
    "    latin_characters = 0\n",
    "    total_characters = 0\n",
    "\n",
    "    for char in text:\n",
    "        if ord(char) >= 0x0000 and ord(char) <= 0x007F:\n",
    "            latin_characters += 1\n",
    "        total_characters += 1\n",
    "\n",
    "    # Check if the majority of characters are Latin alphabet characters\n",
    "    if latin_characters / total_characters >= 0.9:\n",
    "        return True\n",
    "    else:\n",
    "        return False\n",
    "\n",
    "df = df[df['text'].apply(is_latin_alphabet)]\n"
   ]
  },
  {
   "cell_type": "markdown",
   "id": "17e9ddf3-be81-4376-9b51-e8e9e90b2d5a",
   "metadata": {},
   "source": [
    "### Chunking the texts "
   ]
  },
  {
   "cell_type": "markdown",
   "id": "e1c10b51-b7e0-47a5-a3cb-4887e171d19e",
   "metadata": {},
   "source": [
    "Unlike other NLP methods, not much preprocessing is needed. However, LLMs are only able to process texts that are smaller than their \"context window\". If our texts are longer than the context window of our model, we have to either split the texts into several smaller chunks and analyze them part by part, or simply truncate the text (not recommended).\n",
    "\n",
    "The details depend on the model you use and the amount for data. For our example, with the GPT-4-32k model, our speeches all fit in the model window, and we do not need to split the texts. \n",
    "\n",
    "However, for pedagogical reasons, we will use the standard 8K GPT-4 model and chunk the text into smaller pieces. If your text is short, such as a tweet, this function will do nothing."
   ]
  },
  {
   "cell_type": "code",
   "execution_count": 231,
   "id": "a0f5b9d9-00c2-4f06-ad91-09a034341340",
   "metadata": {},
   "outputs": [],
   "source": [
    "# Example of how to chunk the text into pieces, separated on sentence level.\n",
    "# To do so, we use the nltk library"
   ]
  },
  {
   "cell_type": "code",
   "execution_count": 300,
   "id": "43650441-4449-4c61-b196-9c60144d2005",
   "metadata": {},
   "outputs": [],
   "source": [
    "!pip install tiktoken\n",
    "!pip install nltk\n",
    "!pip install langdetect"
   ]
  },
  {
   "cell_type": "code",
   "execution_count": null,
   "id": "085aefde-58f5-4063-8ee9-471c2119ae15",
   "metadata": {},
   "outputs": [],
   "source": [
    "import tiktoken\n",
    "import nltk\n",
    "import nltk.data\n",
    "from nltk.tokenize import sent_tokenize, word_tokenize\n",
    "nltk.download('punkt')"
   ]
  },
  {
   "cell_type": "code",
   "execution_count": 328,
   "id": "0e35f1f5-0fc9-42be-a178-0e7c7ff59837",
   "metadata": {},
   "outputs": [],
   "source": [
    "#This code chunks the text into processable pieces of similar size.\n",
    "#If the text is longer than allowed in terms of model tokens, we want to split the text into equally sized parts, without splitting any text mid-sentence.\n",
    "def split_text_into_chunks(text, max_tokens):\n",
    "    \n",
    "    #Code the text in gpt coding and calculate the number of tokens\n",
    "    encoding = tiktoken.encoding_for_model(MODEL)\n",
    "    nrtokens = len(encoding.encode(text))\n",
    "        \n",
    "    if nrtokens < max_tokens:\n",
    "        return [text]\n",
    "    \n",
    "    #how many chunks to split it into?\n",
    "    num_chunks = np.ceil(nrtokens / max_tokens)\n",
    "\n",
    "    # Tokenize the text into sentences\n",
    "    sentences = sent_tokenize(text)\n",
    "\n",
    "    # Calculate the number of words per chunk\n",
    "    words_per_chunk = len(text.split()) // num_chunks\n",
    "\n",
    "    # Initialize variables\n",
    "    chunks = []\n",
    "    current_chunk = []\n",
    "\n",
    "    word_counter = 0\n",
    "    # Iterate through each sentence\n",
    "    for sentence in sentences:\n",
    "        # Add the sentence to the current chunk\n",
    "        current_chunk.append(sentence)\n",
    "        word_counter += len(sentence.split())\n",
    "\n",
    "        # Check if the current chunk has reached the desired number of words\n",
    "        if word_counter >= words_per_chunk:\n",
    "            # Add the current chunk to the list of chunks\n",
    "            chunks.append(\" \".join(current_chunk))\n",
    "            word_counter = 0\n",
    "            # Reset the current chunk\n",
    "            current_chunk = []\n",
    "\n",
    "    # Add the remaining sentences as the last chunk\n",
    "    if current_chunk:\n",
    "        chunks.append(\" \".join(current_chunk))\n",
    "\n",
    "    return chunks\n",
    "\n"
   ]
  },
  {
   "cell_type": "code",
   "execution_count": 329,
   "id": "835d93ee-ae38-4341-83f7-4c587df57d61",
   "metadata": {},
   "outputs": [],
   "source": [
    "# Maximum number of words per chunk, this depends on the model context window. \n",
    "# We set it to a bit lower than the max tokens, to leave space for our instruction and the response.\n",
    "max_tokens = MAX_TOKENS - 2000\n",
    "df['text_chunks'] = df['text'].apply(lambda x: split_text_into_chunks(x, max_tokens))"
   ]
  },
  {
   "cell_type": "markdown",
   "id": "4c207bd8-6dea-41ad-83ff-bbaeb19d301e",
   "metadata": {},
   "source": [
    "# 4. Prompt engineering"
   ]
  },
  {
   "cell_type": "markdown",
   "id": "1f2cf57e-9ed7-4827-9acc-57539ce3ff3f",
   "metadata": {},
   "source": [
    "The next step is to formulate a first instructions for analyzing the text. The prompts will be a result of an iterative process through which you develop a formulation of the concept that you wish to capture. \n",
    "\n",
    "We here start by drawing on the instructions for human coders from a previous study.\n",
    "\n",
    "See the how-to guide for details on this process. "
   ]
  },
  {
   "cell_type": "code",
   "execution_count": 330,
   "id": "ec5a491c-fef6-4d66-992b-b40556029b5e",
   "metadata": {},
   "outputs": [],
   "source": [
    "instruction = \"\"\"Your task is to evaluate the level of populism in a political text. Populism is defined as \"an ideology that considers society to be ultimately separated into two homogeneous and antagonistic groups, 'the pure people' versus 'the corrupt elite', and which argues that politics should be an expression of the volonté générale (general will) of the people.\"\n",
    "A populist text is characterized by BOTH of the following elements:\n",
    "- People-centrism: how much does the text focus on \"the people\" or \"ordinary people\" as an indivisible or homogeneous community? Does the text promote a politics as the popular will of \"the people\"?\n",
    "Appeals to specific subgroups of the population (such as ethnicities, regional groups, classes) are inherently antithetical to populism.\n",
    "- Anti-elitism: how much does the text focus on \"the elite\", and to what extent are elites in general described in negative terms? In populist texts, the elite is often described as corrupt, and the juxtaposition between the ordinary people and the elite is cast as a moral struggle between good and bad. \n",
    "Criticism of specific elements within an elite is not populist: a populist appeal must regard the elite in its entirety as anathema. \n",
    "\n",
    "You should give the text a numeric grade between 0 and 2.\n",
    "2. The text is very populist and comes very close to the ideal populist discourse.\n",
    "1. A speech in this category includes strong expressions of all of the populist elements,  but either does not use them consistently or tempers them by including non-populist elements. The text may have a romanticized notion of the people and the idea of a unified popular will, but it avoids bellicose language or any particular enemy.\n",
    "0. A speech in this category uses few if any populist elements. \n",
    "[Answer with a number in the 0-2 range, followed by a semi-colon, and then a brief motivation. For instance: \"1.23; The text shows many elements of a populist text.\" Do not use quotation marks.]\n",
    "\"\"\""
   ]
  },
  {
   "cell_type": "markdown",
   "id": "0ecc0e9c-ae83-4c94-8638-e300db21dede",
   "metadata": {},
   "source": [
    "# 5. Calling the LLM and analyzing the results"
   ]
  },
  {
   "cell_type": "markdown",
   "id": "91b8cef3-f9be-4efe-b6f2-c5567c8e2c7e",
   "metadata": {},
   "source": [
    "### 5.1 Call the LLM"
   ]
  },
  {
   "cell_type": "markdown",
   "id": "ee64dddd-fca1-4b86-99e9-698418eda72f",
   "metadata": {},
   "source": [
    "We will now write simple functions for calling the API and carry out our analysis request. We will also need to handle possible errors returned from the API."
   ]
  },
  {
   "cell_type": "code",
   "execution_count": 331,
   "id": "5141014c-b076-4c19-9d48-6b8590472197",
   "metadata": {},
   "outputs": [],
   "source": [
    "import time\n",
    "\n",
    "def analyze_message(text, instruction, model = 'gpt-4', temperature=0.2):\n",
    "    print(f\"Analyzing message...\")\n",
    "    \n",
    "    response = None\n",
    "    tries = 0\n",
    "    failed = True\n",
    "    \n",
    "    while(failed):\n",
    "        try:\n",
    "            response = openai.ChatCompletion.create(\n",
    "                model = model, \n",
    "                temperature=temperature,\n",
    "                messages=[\n",
    "                        {\"role\": \"system\", \"content\": f\"'{instruction}'\"}, #The system instruction tells the bot how it is supposed to behave\n",
    "                        {\"role\": \"user\", \"content\": f\"'{text}'\"} #This provides the text to be analyzed.\n",
    "                    ]\n",
    "            )\n",
    "            failed = False\n",
    "\n",
    "        #Handle errors.\n",
    "        #If the API gets an error, perhaps because it is overwhelmed, we wait 10 seconds and then we try again. \n",
    "        # We do this 10 times, and then we give up.\n",
    "        except openai.error.APIError as e:\n",
    "            print(f\"OpenAI API returned an API Error: {e}\")\n",
    "            \n",
    "            if tries < 10:\n",
    "                print(f\"Caught an APIError: {e}. Waiting 10 seconds and then trying again...\")\n",
    "                failed = True\n",
    "                tries += 1\n",
    "                time.sleep(10)\n",
    "            else:\n",
    "                print(f\"Caught an APIError: {e}. Too many exceptions. Giving up.\")\n",
    "                raise e\n",
    "                \n",
    "        except openai.error.ServiceUnavailableError as e:\n",
    "            print(f\"OpenAI API returned an ServiceUnavailable Error: {e}\")\n",
    "            \n",
    "            if tries < 10:\n",
    "                print(f\"Caught a ServiceUnavailable error: {e}. Waiting 10 seconds and then trying again...\")\n",
    "                failed = True\n",
    "                tries += 1\n",
    "                time.sleep(10)\n",
    "            else:\n",
    "                print(f\"Caught a ServiceUnavailable error: {e}. Too many exceptions. Giving up.\")\n",
    "                raise e\n",
    "            \n",
    "        except openai.error.APIConnectionError as e:\n",
    "            print(f\"Failed to connect to OpenAI API: {e}\")\n",
    "            pass\n",
    "        except openai.error.RateLimitError as e:\n",
    "            print(f\"OpenAI API request exceeded rate limit: {e}\")\n",
    "            pass\n",
    "        \n",
    "        #If the text is too long, we truncate it and try again. Note that if you get this error, you probably want to chunk your texts.\n",
    "        except openai.error.InvalidRequestError as e:\n",
    "            #Shorten request text\n",
    "            print(f\"Received a InvalidRequestError. Request likely too long; cutting 10% of the text and trying again. {e}\")\n",
    "            time.sleep(5)\n",
    "            words = text.split()\n",
    "            num_words_to_remove = round(len(words) * 0.1)\n",
    "            remaining_words = words[:-num_words_to_remove]\n",
    "            text = ' '.join(remaining_words)\n",
    "            failed = True\n",
    "        \n",
    "        except Exception as e:\n",
    "            print(f\"Caught unhandled error.\")\n",
    "            pass\n",
    "            \n",
    "    result = ''\n",
    "    for choice in response.choices:\n",
    "        result += choice.message.content\n",
    "    \n",
    "    return result \n",
    "\n",
    "\n",
    "    "
   ]
  },
  {
   "cell_type": "markdown",
   "id": "f3e3dae9-ea69-42e4-b220-e5275bce2069",
   "metadata": {},
   "source": [
    "### 5.2 Parse response "
   ]
  },
  {
   "cell_type": "markdown",
   "id": "d7995f8e-96a0-4cf4-b149-863ac974bf14",
   "metadata": {},
   "source": [
    "The LLM will return a text message. We need to parse this response so that we can use it for further analysis. The details of this function will depend on how you asked the API to respond in your instruction (see above). In our case, we asked the LLM to return a list of numbers, followed by a motivation."
   ]
  },
  {
   "cell_type": "code",
   "execution_count": 332,
   "id": "53920a6a-b1e3-4bd5-9e75-e702c5d90018",
   "metadata": {},
   "outputs": [],
   "source": [
    "def parse_result(result):\n",
    "    #The LLMs at times surround their answers with quotation marks, even if you explicitly tell them not to. If so, we remove them her.\n",
    "    result = result.strip(\"'\\\"\") \n",
    "    try:\n",
    "        #We asked the LLM to start with a number, followed by a semi-colon, followed by the motivation. We assume this format in the response here.\n",
    "        return result.split(';', 2) #Split by ';' and use first part as numeric answer, second part as motivation\n",
    "    except Exception as e:\n",
    "        #If we get an error, we here print the string that failed, to allow debugging.\n",
    "        print(result)\n",
    "        pass"
   ]
  },
  {
   "cell_type": "markdown",
   "id": "a8e91d60-313b-4d20-9b14-9338d08753e3",
   "metadata": {},
   "source": [
    "### 5.3 Run the analysis"
   ]
  },
  {
   "cell_type": "markdown",
   "id": "53218c5d-6b69-4cf0-bc5b-57be7f659b10",
   "metadata": {},
   "source": [
    "This is the main loop of the code, where we call the LLM for each line in our data, and give it the instructions."
   ]
  },
  {
   "cell_type": "code",
   "execution_count": 333,
   "id": "15303a74-a62e-4bba-b44d-ad7c88ab2ebc",
   "metadata": {},
   "outputs": [],
   "source": [
    "#First, we need to prepare the data and store it in a file for persistency\n",
    "filename = 'data.pkl'\n",
    "\n",
    "#These are the columns where we will store the analyzed data\n",
    "df['answers'] = [[] for _ in range(len(df))]\n",
    "df['motivations'] = [[] for _ in range(len(df))]\n",
    "\n",
    "df.to_pickle(filename)"
   ]
  },
  {
   "cell_type": "code",
   "execution_count": 363,
   "id": "b319655e-5317-456f-999e-845a57375a00",
   "metadata": {},
   "outputs": [],
   "source": [
    "#Main loop \n",
    "df = pd.read_pickle(filename)\n",
    "\n",
    "#If you want to limit the number of lines to analyze\n",
    "maximum_lines_to_analyze = 100\n",
    "i = 0\n",
    "\n",
    "while(True):\n",
    "\n",
    "    #Find all unprocessed lines\n",
    "    # left = df.loc[df['result'].isna()]\n",
    "    left = df.loc[df['answers'].map(len)==0]\n",
    "    \n",
    "    #No lines left? Then we're done\n",
    "    if len(left)==0 or i>= maximum_lines_to_analyze:\n",
    "        print(\"All done!\")\n",
    "        break\n",
    "        \n",
    "    #Take a random line\n",
    "    line = left.sample()\n",
    "    index = line.index.values[0]\n",
    "    \n",
    "    print(f\"There are {len(left)} left to process. Processing: {index}\")\n",
    "    \n",
    "    #Wait for a bit, to not overload the API\n",
    "    time.sleep(WAIT_TIME)\n",
    "    \n",
    "    #Analyze the specific line, chunk by chunk\n",
    "    for chunk in line['text_chunks'].values[0]:\n",
    "        result = analyze_message(chunk, instruction, model = MODEL)\n",
    "\n",
    "        #Parse the results, and put into dataframe\n",
    "        answer,motivation = parse_result(result)\n",
    "\n",
    "        df.loc[index,'answers'].append(answer)\n",
    "        df.loc[index,'motivations'].append(motivation)\n",
    "    \n",
    "    i+=1\n",
    "    \n",
    "    #Save the result to persistent file\n",
    "    df.to_pickle(filename)"
   ]
  },
  {
   "cell_type": "markdown",
   "id": "ddfdd116-4933-4bcf-9afc-eeedac29aa81",
   "metadata": {},
   "source": [
    "### Post-analysis calculations"
   ]
  },
  {
   "cell_type": "markdown",
   "id": "28428f1b-f40e-4de7-8f4c-c38ddd30e947",
   "metadata": {},
   "source": [
    "Following the LLM analysis, we may need to do some minor calculations or modifications of the results. "
   ]
  },
  {
   "cell_type": "markdown",
   "id": "ad0be53e-883c-4ae8-ba6a-0160f127de4a",
   "metadata": {},
   "source": [
    "For instance, we need to combine the values returned for the different chunks to a final complete values for the full text. This can be done in several ways, but the most straight-forward is to take the average values for each part. If the text only has one chunk, the result will be used without change. We will here leave the motivations as a list."
   ]
  },
  {
   "cell_type": "code",
   "execution_count": 337,
   "id": "6e7e0676-d61d-410c-959d-e2d4fd544d13",
   "metadata": {},
   "outputs": [],
   "source": [
    "#Take the mean level of populism in the text\n",
    "df['answer'] = [np.mean(answers) if len(answers)>0 else None for answers in df['answers']]"
   ]
  },
  {
   "cell_type": "markdown",
   "id": "2fabeed5-7191-45a0-9341-41dda12a6ac6",
   "metadata": {},
   "source": [
    "### Example result"
   ]
  },
  {
   "cell_type": "markdown",
   "id": "9b368fc0-35f1-40de-909e-e85167ec3186",
   "metadata": {},
   "source": [
    "We can now look at some examples of the result from the analysis and the associated motivation. \n",
    "\n",
    "For instance, we here look at the rating of Donald Trump's inaguration speech:"
   ]
  },
  {
   "cell_type": "code",
   "execution_count": 320,
   "id": "a8455965-7910-4234-b9ef-1ae4448e71ef",
   "metadata": {},
   "outputs": [
    {
     "name": "stdout",
     "output_type": "stream",
     "text": [
      "Rating: \t 1.5. \n",
      "Motivation: \t 'The text shows many elements of a populist text. It refers to \"the people\" and \"ordinary people\" as a homogeneous community and promotes the idea of politics as the popular will of \"the people.\" It also criticizes the elite and describes them as having reaped the rewards of government while the people have borne the cost. However, it does not use bellicose language or references to a particular enemy.'\n"
     ]
    }
   ],
   "source": [
    "trump = df.loc[df.filename == 'US_Trump_Famous_1.txt']\n",
    "print(f\"\"\"Rating: {trump.answer.values[0]}. Motivation: '{trump.motivations.values[0][0]}'\"\"\")"
   ]
  },
  {
   "cell_type": "markdown",
   "id": "a22c2492-6615-4061-99e4-20ea43d0cf93",
   "metadata": {},
   "source": [
    "At face value, this motivation seems both reasonable and plausible. We will now turn to carry out a more in-depth validation."
   ]
  },
  {
   "cell_type": "markdown",
   "id": "0a4faae5-75ea-4830-bfc2-da30d7580987",
   "metadata": {},
   "source": [
    "# 6. Validation"
   ]
  },
  {
   "cell_type": "markdown",
   "id": "3f93455d-9c35-4861-8902-14fee1fd941b",
   "metadata": {},
   "source": [
    "Finally, we need to validate our results. Careful validation is essential to make sure that the models are measuring what we intend -- and that they do so without problematic biases. To validate our models, we can compare the outputs with established benchmarks, ground truth data, or expert evaluations to validate the effectiveness in achieving the desired analysis outcomes. Validation can furthermore help us fine-tune the model prompt to improve the results.\n",
    "\n",
    "A simple way of validating can be to output a random sample to an Excel file, and have human coders manually classifying the data to compare the results. To do so, the code below can be used:"
   ]
  },
  {
   "cell_type": "markdown",
   "id": "4cd68f4a-e190-4d2b-a7b3-9f31e7ce6723",
   "metadata": {},
   "source": [
    "### 6.1 Acquire validation data"
   ]
  },
  {
   "cell_type": "code",
   "execution_count": 70,
   "id": "eaf1f65b-eb9f-4d77-b668-ba0b1a3b4a9a",
   "metadata": {},
   "outputs": [],
   "source": [
    "# # Code to extract the data as excel for manual checking. This is included for illustration, however, we won't use this here.\n",
    "# sample_size = 100\n",
    "# sample = df.sample(sample_size).reset_index()\n",
    "# sample['manual_classification'] = None\n",
    "# sample[['index','text','manual_classification']].to_excel('manual_validation.xlsx')\n",
    "\n",
    "# # Now open the resulting file in Excel. Carry out manual classification and put result in the final column\n",
    "\n",
    "# manual_result = pd.read_excel('manual_validation_finished.xlsx')"
   ]
  },
  {
   "cell_type": "markdown",
   "id": "f865a93e-37e1-4794-821b-1e535bfed2ed",
   "metadata": {},
   "source": [
    "In the case of the populism example, however, the Global Populism Database already offers a large sample of manually classified datapoints that we can use for validation. "
   ]
  },
  {
   "cell_type": "markdown",
   "id": "b757094f-e4fa-4271-8f15-1bec4c550f27",
   "metadata": {},
   "source": [
    "We first need to make sure the data is in the right format for running simpledorff. Each line should be one coder response."
   ]
  },
  {
   "cell_type": "code",
   "execution_count": 343,
   "id": "218d0cab-5888-49fb-ac64-6b726b27b6c1",
   "metadata": {},
   "outputs": [],
   "source": [
    "#Load and clean the validation data. \n",
    "val = pd.read_csv('./global-populism-dataset/gpd_v2_20220427.csv')\n",
    "val = val[val['merging_variable'].notna()] \n",
    "val = val[val['rubricgrade'].notna()] #The database contains some NaN values for the index; we remove these lines\n",
    "val = val[['merging_variable','codernum','rubricgrade','averagerubric']]"
   ]
  },
  {
   "cell_type": "code",
   "execution_count": 344,
   "id": "d407363b-d464-4617-a41c-d1c27916d7ea",
   "metadata": {},
   "outputs": [],
   "source": [
    "#We include only the lines that we've coded with the LLM\n",
    "included = set(df.loc[~df['answer'].isna()].filename.values)\n",
    "val = val.loc[(val['merging_variable'].isin(included)) &  (val['codernum']<=2) ]\n",
    "\n",
    "#We compare our result with that of the average coder result\n",
    "val = val.drop_duplicates(subset=['merging_variable'], keep='first')[['merging_variable','averagerubric']].rename(columns={'averagerubric':'answer'})\n",
    "val['codernum'] = 'human'\n",
    "\n",
    "#Fit our coded data into the same format to allow processing\n",
    "df2 = df[['filename','answer','motivations']].dropna(subset=['answer']).rename(columns={'filename':'merging_variable'})\n",
    "df2['codernum'] = 'llm'\n",
    "\n",
    "#Combine the two datasets\n",
    "validation_data = pd.concat([val,df2])"
   ]
  },
  {
   "cell_type": "markdown",
   "id": "6a5bbee5-f9b2-4f1f-921e-646a2455ce2d",
   "metadata": {},
   "source": [
    "### 6.2 Measure Krippendorf's Alpha"
   ]
  },
  {
   "cell_type": "markdown",
   "id": "f954f50c-0304-4bc6-8fdd-a2730edd38e4",
   "metadata": {},
   "source": [
    "To compare our data against the validation data, we can use Krippendorf's Alpha (see how-to guide for details.) We here use the simpledorff library to do so."
   ]
  },
  {
   "cell_type": "code",
   "execution_count": null,
   "id": "83bed77d-a487-45e9-9827-309782ebd4df",
   "metadata": {},
   "outputs": [],
   "source": [
    "!pip install simpledorff"
   ]
  },
  {
   "cell_type": "code",
   "execution_count": 71,
   "id": "902d9aeb-ba4a-4825-b7c6-06208340c729",
   "metadata": {},
   "outputs": [],
   "source": [
    "import simpledorff"
   ]
  },
  {
   "cell_type": "code",
   "execution_count": 350,
   "id": "cd01e12b-f258-4a22-8cab-8e91d754b8fe",
   "metadata": {},
   "outputs": [
    {
     "name": "stdout",
     "output_type": "stream",
     "text": [
      "The resulting Krippendorf's Alpha is is 0.6348188209387895.\n"
     ]
    }
   ],
   "source": [
    "#Calculate inter-coder reliability\n",
    "#Note that this uses the interval metric. If your variable is categorical, you need to remove the metric_fn parameter.\n",
    "KA = simpledorff.calculate_krippendorffs_alpha_for_df(test,metric_fn=simpledorff.metrics.interval_metric,experiment_col='merging_variable', annotator_col='codernum', class_col='answer')\n",
    "\n",
    "print(f\"The resulting Krippendorf's Alpha is is {KA}.\")"
   ]
  },
  {
   "cell_type": "markdown",
   "id": "b560aac5-e680-4130-8258-72708aa2a9f8",
   "metadata": {},
   "source": [
    "This is a relatively high value for a first iteration of prompt development for a challenging concept.\n"
   ]
  },
  {
   "cell_type": "markdown",
   "id": "55c21731-d26e-4b4e-87a2-20073dc7e2af",
   "metadata": {},
   "source": [
    "### 6.3 Carry out iterative process of concept and prompt development "
   ]
  },
  {
   "cell_type": "markdown",
   "id": "8697e9bf-11c3-45f2-b18d-97d3a633a1d5",
   "metadata": {},
   "source": [
    "Having measured the disagreements between coders and LLM, we can now seek to try to understand the sources of the disagreement. This can be best thought of as a process of mutual learning through which we develop and operationalize a rigorous social scientific concept in the form of a prompt.\n",
    "\n",
    "We can here work with the coders, and comparing their notes to the motivations given by the LLM, focusing on the examples where the LLM and the human coders are (most) in disagreement. We may find that the prompt can be improved - or that our human coders were mistaken or biased. "
   ]
  },
  {
   "cell_type": "markdown",
   "id": "9ac065cb-e695-4c94-9c49-c6d9fa9d91e8",
   "metadata": {},
   "source": [
    "In our case, we do not have access to the coders, and we will simply show the process through which this form of work can be done."
   ]
  },
  {
   "cell_type": "code",
   "execution_count": null,
   "id": "0d5f10c4-c97e-46f1-9316-4c428c7d3a81",
   "metadata": {},
   "outputs": [],
   "source": [
    "# We create a dataframe that lists the level of disagreement between coders and LLM\n",
    "wrong = df2.merge(val, on='merging_variable')\n",
    "wrong['diff'] = abs(wrong['answer_x']-wrong['answer_y'])"
   ]
  },
  {
   "cell_type": "code",
   "execution_count": null,
   "id": "9a688c94-12d8-47f0-ad6a-68a790a9b452",
   "metadata": {},
   "outputs": [],
   "source": [
    "#We can save as CSV file to analyze results in Excel, or examine the results here.\n",
    "# display(wrong.sort_values(['diff']))\n",
    "wrong.sort_values(['diff']).to_csv('disagreements.csv') "
   ]
  },
  {
   "cell_type": "code",
   "execution_count": 360,
   "id": "9444ac2b-8e51-4492-bac9-e009e4450b3e",
   "metadata": {},
   "outputs": [
    {
     "data": {
      "text/plain": [
       "' The text does not contain populist elements. It does not focus on \"the people\" as a homogeneous group, nor does it depict \"the elite\" as a corrupt entity. Instead, it focuses on historical events, the importance of freedom, and the unity of the nation.'"
      ]
     },
     "execution_count": 360,
     "metadata": {},
     "output_type": "execute_result"
    }
   ],
   "source": [
    "# One of the cases where the LLM and human coders disagree the most is a speech by Berlusconi. The LLM does not think it is populist, but the human coders do.\n",
    "\n",
    "#The motivation given by the LLM is:\n",
    "wrong.loc[wrong['merging_variable']=='Italy_Berlusconi_Ribbon_2.txt'].motivations.values[0][0]\n"
   ]
  },
  {
   "cell_type": "markdown",
   "id": "79a8e06e-04d4-4b2e-b22f-80064c8e115f",
   "metadata": {},
   "source": [
    "Here follows the text, translated to English. \n",
    "\n",
    "Do you agree with the LLM or the huamn coders? If the latter, how do you think the prompt should be modified to improve the results? "
   ]
  },
  {
   "cell_type": "code",
   "execution_count": 362,
   "id": "1d4ff010-e847-4d5b-bbf5-a31104f426b9",
   "metadata": {},
   "outputs": [
    {
     "name": "stdout",
     "output_type": "stream",
     "text": [
      "Dear friends,\n",
      "\n",
      "It is not easy to find the words to describe my, our state of mind at this moment. We are gathered here in Onna to celebrate the Liberation Day, a celebration that is both an honor and a commitment.\n",
      "\n",
      "An honor: to commemorate a terrible massacre that took place right here in June 1944 when the Nazis, in retaliation, killed 17 citizens of Onna and then blew up the house where the bodies of those innocent victims were found.\n",
      "\n",
      "A commitment: what should inspire us is not to forget what happened here and to remember the horrors of totalitarianism and the suppression of 'freedom'.\n",
      "\n",
      "Right here, in Abruzzo, the legendary Maiella Brigade was born and operated, decorated with the Gold Medal for Military Valor. In December '43, 15 young people founded what would become the Maiella Brigade, which grew to 1,500 strong.\n",
      "\n",
      "It is no coincidence that on this special day, the soldiers of the Honor Guard standing before us belong to the 33rd Artillery Regiment, the Abruzzesi unit that in 1943 on Cephalonia had the courage to resist the Nazis and sacrifice themselves – fighting – for the honor of our country.\n",
      "\n",
      "To those patriots who fought for the redemption and rebirth of Italy, our admiration, gratitude, and recognition must always go.\n",
      "\n",
      "Most Italians today have not experienced what it means to be deprived of freedom. Only the elderly have a direct memory of totalitarianism, foreign occupation, and the war for the liberation of our homeland.\n",
      "\n",
      "For many of us, it is a memory tied to our families, our parents, our grandparents, many of whom were protagonists or victims of those dramatic days. For me, it is the memory of years of separation from my father, forced to emigrate to avoid arrest, the memory of my mother's sacrifices, who alone had to support a large family during those difficult years. It is the memory of her courage, of her, like many others, traveling by train every day from a small town in the province of Como to work in Milan, and on one of those trains, risking her life but managing to save a Jewish woman from the clutches of a Nazi soldier destined for the extermination camps.\n",
      "\n",
      "These are the memories, the examples with which we grew up – the memories of a generation of Italians who did not hesitate to choose freedom, even at the risk of their own safety and lives.\n",
      "\n",
      "Our country owes an inexhaustible debt to those many young people who sacrificed their lives during their most beautiful years to redeem the honor of the nation, out of fidelity to an oath, but above all for that great, splendid, and essential value which is freedom.\n",
      "\n",
      "We owe the same debt of gratitude to all those other boys, Americans, English, French, Polish, from the many allied countries, who shed their blood in the Italian campaign. Without them, the sacrifice of our partisans would have risked being in vain.\n",
      "\n",
      "And with respect, we must remember today all the fallen, even those who fought on the wrong side, sincerely sacrificing their lives for their ideals and a lost cause.\n",
      "\n",
      "This does not mean, of course, neutrality or indifference. We are – all free Italians are – on the side of those who fought for our freedom, for our dignity, and for the honor of our homeland.\n",
      "\n",
      "In recent years, the history of the Resistance has been deepened and discussed. It is a good thing that it happened. The Resistance, along with the Risorgimento, is one of the founding values of our nation, a return to the tradition of freedom. And freedom is a right that comes before laws and the state because it is a natural right that belongs to us as human beings.\n",
      "\n",
      "However, a free nation does not need myths. As with the Risorgimento, we must also remember the dark pages of the civil war, even those in which those who fought on the right side made mistakes and took on blame.\n",
      "\n",
      "It is an exercise in truth, in honesty, an exercise that makes the history of those who fought on the right side with selflessness and courage even more glorious.\n",
      "\n",
      "It is the history of the many who fought in the Southern army, who, from Cephalonia onwards, redeemed the honor of the uniform with their blood.\n",
      "\n",
      "It is the history of martyrs like Salvo D’Acquisto, who did not hesitate to sacrifice his life in exchange for other innocent lives.\n",
      "\n",
      "It is the history of our soldiers interned in Germany who chose concentration camps rather than collaborating with the Nazis.\n",
      "\n",
      "It is the history of the many who hid their fellow Jewish citizens, saving them from deportation.\n",
      "\n",
      "Above all, it is the history of the many, countless unknown heroes who, with small or great acts of daily courage, contributed to the cause of freedom.\n",
      "\n",
      "Even the Church, I want to remember, played its part with true courage, to prevent odious concepts like race or religious differences from becoming reasons for persecution and death.\n",
      "\n",
      "Similarly, we must remember the young Jews of the Jewish Brigade, who came from ghettos all over Europe, took up arms, and fought for freedom.\n",
      "\n",
      "At that moment, many Italians of different faiths, cultures, and backgrounds came together to pursue the same great dream – the dream of freedom.\n",
      "\n",
      "Among them were very different individuals and groups. Some thought only of freedom, some dreamed of establishing a different social and political order, some considered themselves bound by an oath of loyalty to the monarchy.\n",
      "\n",
      "But they all managed to set aside their differences, even the most profound ones, to fight together. The communists and the Catholics, the socialists and the liberals, the actionists and the monarchists, faced with a common tragedy, each wrote a great page of our history. A page on which our Constitution is based, a page on which our freedom is based.\n",
      "\n",
      "In the drafting of the Constitution, the wisdom of the political leaders of that time – De Gasperi and Togliatti, Ruini and Terracini, Nenni, Pacciardi, and Parri – managed to channel deep initial divisions towards a single objective.\n",
      "\n",
      "Although clearly the result of compromises, the republican Constitution achieved two noble and fundamental objectives: guaranteeing freedom and creating the conditions for democratic development in the country. It was not a small feat; in fact, it was the best compromise possible at the time.\n",
      "\n",
      "However, the goal of creating a \"common\" moral conscience for the nation was missed, perhaps premature for those times, so much so that the predominant value for everyone was anti-fascism, but not necessarily anti-totalitarianism. It was a product of history, a compromise useful to avoid the Cold War that vertically divided Italy from degenerating into a civil war with unpredictable outcomes. But the assumption of responsibility and the sense of the State that animated all the political leaders of that time remain a great lesson that would be unforgivable to forget.\n",
      "\n",
      "Today, 64 years after April 25, 1945, and twenty years after the fall of the Berlin Wall, our task, the task of all, is to finally build a unified national sentiment.\n",
      "\n",
      "We must do it together, together, regardless of political affiliation, together, for a new beginning of our republican democracy, where all political parties recognize the greatest value, freedom, and debate in its name for the good and the interest of all.\n",
      "\n",
      "The anniversary of the regained freedom is, therefore, an opportunity to reflect on the past, but also to reflect on the present and the future of Italy. If we can do it together from today onwards, we will have rendered a great service not to one\n",
      "\n",
      "We have always rejected the idea that our adversary was our enemy. Our religion of freedom demanded it from us and still does. With the same spirit, I am convinced that the time has come for the Liberation Day to become the Day of Freedom, and for this commemoration to shed the character of opposition that revolutionary culture gave it, a character that still 'divides' rather than 'unites'.\n",
      "\n",
      "I say this with great serenity, without any intention of creating controversy. April 25 was the origin of a new season of democracy, and in democracy, the people's vote deserves absolute respect from everyone.\n",
      "\n",
      "After April 25, the people peacefully voted for the Republic, and the monarchy accepted the people's judgment.\n",
      "\n",
      "Shortly after, on April 18, 1948, the people's choice was once again decisive for our country: with De Gasperi's victory, the Italian people recognized themselves in the Christian and liberal tradition of their history. The 1950s, always with the support of the popular vote, shaped Italy into a democratic, economic, and social reality. Italy became part of Europe and the West, played a role in promoting Atlantic unity and European unity, transforming from a rejected nation to a respected one.\n",
      "\n",
      "Today, our young people face other challenges: to defend the freedom conquered by their fathers and expand it even further, aware that without freedom, there can be no peace, justice, or well-being.\n",
      "\n",
      "Some of these challenges are global and see us engaged alongside free nations: the fight against terrorism, the fight against fanatic and repressive fundamentalism, the fight against racism because freedom, dignity, and peace are rights of every human being, 'everywhere' in the world.\n",
      "\n",
      "That's why I want to remember the Italian soldiers engaged in peace missions abroad, especially those who have fallen in carrying out this noble mission. There is an ideal continuity between them and all the heroes, Italian and allied, who sacrificed their lives over 60 years ago to give us back freedom, security, and peace.\n",
      "\n",
      "Today, the teachings of our fathers take on a special value: this April 25 comes just after the great tragedy that struck this land of Abruzzo. Once again, facing the emergency and tragedy, Italians have shown their ability to unite, to overcome differences, demonstrating that they are a great and cohesive people, full of generosity, solidarity, and courage.\n",
      "\n",
      "Looking at the many Italians who have been engaged here in rescue and reconstruction efforts, I feel proud, once again, even more so, to be Italian and to lead this wonderful country.\n",
      "\n",
      "Today, Onna is the symbol of our Italy. The earthquake that destroyed it reminds us of the days when invaders destroyed it. Rebuilding it will mean repeating the gesture of its rebirth after Nazi violence.\n",
      "\n",
      "And it is precisely concerning the heroes of then and today that we all have a great responsibility: to set aside any controversy, to look at the interest of the nation, to safeguard the great heritage of freedom that we inherited from our fathers.\n",
      "\n",
      "Together, we all have the responsibility and duty to build a future of prosperity, security, peace, and freedom for all.\n",
      "\n",
      "Long live Italy! Long live the Republic!\n",
      "\n",
      "Long live April 25, the celebration of all Italians who love freedom and want to remain free!\n",
      "\n",
      "Long live April 25, the celebration of regained freedom!\n"
     ]
    }
   ],
   "source": [
    "print(\"\"\"Dear friends,\\n\\nIt is not easy to find the words to describe my, our state of mind at this moment. We are gathered here in Onna to celebrate the Liberation Day, a celebration that is both an honor and a commitment.\\n\\nAn honor: to commemorate a terrible massacre that took place right here in June 1944 when the Nazis, in retaliation, killed 17 citizens of Onna and then blew up the house where the bodies of those innocent victims were found.\\n\\nA commitment: what should inspire us is not to forget what happened here and to remember the horrors of totalitarianism and the suppression of 'freedom'.\\n\\nRight here, in Abruzzo, the legendary Maiella Brigade was born and operated, decorated with the Gold Medal for Military Valor. In December '43, 15 young people founded what would become the Maiella Brigade, which grew to 1,500 strong.\\n\\nIt is no coincidence that on this special day, the soldiers of the Honor Guard standing before us belong to the 33rd Artillery Regiment, the Abruzzesi unit that in 1943 on Cephalonia had the courage to resist the Nazis and sacrifice themselves – fighting – for the honor of our country.\\n\\nTo those patriots who fought for the redemption and rebirth of Italy, our admiration, gratitude, and recognition must always go.\\n\\nMost Italians today have not experienced what it means to be deprived of freedom. Only the elderly have a direct memory of totalitarianism, foreign occupation, and the war for the liberation of our homeland.\\n\\nFor many of us, it is a memory tied to our families, our parents, our grandparents, many of whom were protagonists or victims of those dramatic days. For me, it is the memory of years of separation from my father, forced to emigrate to avoid arrest, the memory of my mother's sacrifices, who alone had to support a large family during those difficult years. It is the memory of her courage, of her, like many others, traveling by train every day from a small town in the province of Como to work in Milan, and on one of those trains, risking her life but managing to save a Jewish woman from the clutches of a Nazi soldier destined for the extermination camps.\\n\\nThese are the memories, the examples with which we grew up – the memories of a generation of Italians who did not hesitate to choose freedom, even at the risk of their own safety and lives.\\n\\nOur country owes an inexhaustible debt to those many young people who sacrificed their lives during their most beautiful years to redeem the honor of the nation, out of fidelity to an oath, but above all for that great, splendid, and essential value which is freedom.\\n\\nWe owe the same debt of gratitude to all those other boys, Americans, English, French, Polish, from the many allied countries, who shed their blood in the Italian campaign. Without them, the sacrifice of our partisans would have risked being in vain.\\n\\nAnd with respect, we must remember today all the fallen, even those who fought on the wrong side, sincerely sacrificing their lives for their ideals and a lost cause.\\n\\nThis does not mean, of course, neutrality or indifference. We are – all free Italians are – on the side of those who fought for our freedom, for our dignity, and for the honor of our homeland.\\n\\nIn recent years, the history of the Resistance has been deepened and discussed. It is a good thing that it happened. The Resistance, along with the Risorgimento, is one of the founding values of our nation, a return to the tradition of freedom. And freedom is a right that comes before laws and the state because it is a natural right that belongs to us as human beings.\\n\\nHowever, a free nation does not need myths. As with the Risorgimento, we must also remember the dark pages of the civil war, even those in which those who fought on the right side made mistakes and took on blame.\\n\\nIt is an exercise in truth, in honesty, an exercise that makes the history of those who fought on the right side with selflessness and courage even more glorious.\\n\\nIt is the history of the many who fought in the Southern army, who, from Cephalonia onwards, redeemed the honor of the uniform with their blood.\\n\\nIt is the history of martyrs like Salvo D’Acquisto, who did not hesitate to sacrifice his life in exchange for other innocent lives.\\n\\nIt is the history of our soldiers interned in Germany who chose concentration camps rather than collaborating with the Nazis.\\n\\nIt is the history of the many who hid their fellow Jewish citizens, saving them from deportation.\\n\\nAbove all, it is the history of the many, countless unknown heroes who, with small or great acts of daily courage, contributed to the cause of freedom.\\n\\nEven the Church, I want to remember, played its part with true courage, to prevent odious concepts like race or religious differences from becoming reasons for persecution and death.\\n\\nSimilarly, we must remember the young Jews of the Jewish Brigade, who came from ghettos all over Europe, took up arms, and fought for freedom.\\n\\nAt that moment, many Italians of different faiths, cultures, and backgrounds came together to pursue the same great dream – the dream of freedom.\\n\\nAmong them were very different individuals and groups. Some thought only of freedom, some dreamed of establishing a different social and political order, some considered themselves bound by an oath of loyalty to the monarchy.\\n\\nBut they all managed to set aside their differences, even the most profound ones, to fight together. The communists and the Catholics, the socialists and the liberals, the actionists and the monarchists, faced with a common tragedy, each wrote a great page of our history. A page on which our Constitution is based, a page on which our freedom is based.\\n\\nIn the drafting of the Constitution, the wisdom of the political leaders of that time – De Gasperi and Togliatti, Ruini and Terracini, Nenni, Pacciardi, and Parri – managed to channel deep initial divisions towards a single objective.\\n\\nAlthough clearly the result of compromises, the republican Constitution achieved two noble and fundamental objectives: guaranteeing freedom and creating the conditions for democratic development in the country. It was not a small feat; in fact, it was the best compromise possible at the time.\\n\\nHowever, the goal of creating a \"common\" moral conscience for the nation was missed, perhaps premature for those times, so much so that the predominant value for everyone was anti-fascism, but not necessarily anti-totalitarianism. It was a product of history, a compromise useful to avoid the Cold War that vertically divided Italy from degenerating into a civil war with unpredictable outcomes. But the assumption of responsibility and the sense of the State that animated all the political leaders of that time remain a great lesson that would be unforgivable to forget.\\n\\nToday, 64 years after April 25, 1945, and twenty years after the fall of the Berlin Wall, our task, the task of all, is to finally build a unified national sentiment.\\n\\nWe must do it together, together, regardless of political affiliation, together, for a new beginning of our republican democracy, where all political parties recognize the greatest value, freedom, and debate in its name for the good and the interest of all.\\n\\nThe anniversary of the regained freedom is, therefore, an opportunity to reflect on the past, but also to reflect on the present and the future of Italy. If we can do it together from today onwards, we will have rendered a great service not to one\\n\\nWe have always rejected the idea that our adversary was our enemy. Our religion of freedom demanded it from us and still does. With the same spirit, I am convinced that the time has come for the Liberation Day to become the Day of Freedom, and for this commemoration to shed the character of opposition that revolutionary culture gave it, a character that still 'divides' rather than 'unites'.\\n\\nI say this with great serenity, without any intention of creating controversy. April 25 was the origin of a new season of democracy, and in democracy, the people's vote deserves absolute respect from everyone.\\n\\nAfter April 25, the people peacefully voted for the Republic, and the monarchy accepted the people's judgment.\\n\\nShortly after, on April 18, 1948, the people's choice was once again decisive for our country: with De Gasperi's victory, the Italian people recognized themselves in the Christian and liberal tradition of their history. The 1950s, always with the support of the popular vote, shaped Italy into a democratic, economic, and social reality. Italy became part of Europe and the West, played a role in promoting Atlantic unity and European unity, transforming from a rejected nation to a respected one.\\n\\nToday, our young people face other challenges: to defend the freedom conquered by their fathers and expand it even further, aware that without freedom, there can be no peace, justice, or well-being.\\n\\nSome of these challenges are global and see us engaged alongside free nations: the fight against terrorism, the fight against fanatic and repressive fundamentalism, the fight against racism because freedom, dignity, and peace are rights of every human being, 'everywhere' in the world.\\n\\nThat's why I want to remember the Italian soldiers engaged in peace missions abroad, especially those who have fallen in carrying out this noble mission. There is an ideal continuity between them and all the heroes, Italian and allied, who sacrificed their lives over 60 years ago to give us back freedom, security, and peace.\\n\\nToday, the teachings of our fathers take on a special value: this April 25 comes just after the great tragedy that struck this land of Abruzzo. Once again, facing the emergency and tragedy, Italians have shown their ability to unite, to overcome differences, demonstrating that they are a great and cohesive people, full of generosity, solidarity, and courage.\\n\\nLooking at the many Italians who have been engaged here in rescue and reconstruction efforts, I feel proud, once again, even more so, to be Italian and to lead this wonderful country.\\n\\nToday, Onna is the symbol of our Italy. The earthquake that destroyed it reminds us of the days when invaders destroyed it. Rebuilding it will mean repeating the gesture of its rebirth after Nazi violence.\\n\\nAnd it is precisely concerning the heroes of then and today that we all have a great responsibility: to set aside any controversy, to look at the interest of the nation, to safeguard the great heritage of freedom that we inherited from our fathers.\\n\\nTogether, we all have the responsibility and duty to build a future of prosperity, security, peace, and freedom for all.\\n\\nLong live Italy! Long live the Republic!\\n\\nLong live April 25, the celebration of all Italians who love freedom and want to remain free!\\n\\nLong live April 25, the celebration of regained freedom!\"\"\")\n"
   ]
  }
 ],
 "metadata": {
  "kernelspec": {
   "display_name": "Python 3 (ipykernel)",
   "language": "python",
   "name": "python3"
  },
  "language_info": {
   "codemirror_mode": {
    "name": "ipython",
    "version": 3
   },
   "file_extension": ".py",
   "mimetype": "text/x-python",
   "name": "python",
   "nbconvert_exporter": "python",
   "pygments_lexer": "ipython3",
   "version": "3.9.9"
  }
 },
 "nbformat": 4,
 "nbformat_minor": 5
}
